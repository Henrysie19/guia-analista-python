{
 "cells": [
  {
   "cell_type": "code",
   "execution_count": 6,
   "id": "be96811b-10a8-41f9-a517-f202048ed74c",
   "metadata": {
    "tags": []
   },
   "outputs": [],
   "source": [
    "import numpy as np\n",
    "import pandas as pd\n",
    "import matplotlib.pyplot as plt\n",
    "%matplotlib inline"
   ]
  },
  {
   "cell_type": "code",
   "execution_count": 101,
   "id": "37b16d2a-daf0-4cb5-93d6-aedfbece0a79",
   "metadata": {
    "tags": []
   },
   "outputs": [],
   "source": [
    "df_clientes = pd.read_excel('prueba_inner_1.xlsx', index_col=None)\n",
    "df_salarios = pd.read_excel('prueba_inner_2.xlsx', index_col=None)"
   ]
  },
  {
   "cell_type": "code",
   "execution_count": 103,
   "id": "a93e8663-ce5c-44a5-9988-c1018705ea17",
   "metadata": {
    "tags": []
   },
   "outputs": [
    {
     "data": {
      "text/html": [
       "<div>\n",
       "<style scoped>\n",
       "    .dataframe tbody tr th:only-of-type {\n",
       "        vertical-align: middle;\n",
       "    }\n",
       "\n",
       "    .dataframe tbody tr th {\n",
       "        vertical-align: top;\n",
       "    }\n",
       "\n",
       "    .dataframe thead th {\n",
       "        text-align: right;\n",
       "    }\n",
       "</style>\n",
       "<table border=\"1\" class=\"dataframe\">\n",
       "  <thead>\n",
       "    <tr style=\"text-align: right;\">\n",
       "      <th></th>\n",
       "      <th>id</th>\n",
       "      <th>nombres</th>\n",
       "      <th>apellidos</th>\n",
       "    </tr>\n",
       "  </thead>\n",
       "  <tbody>\n",
       "    <tr>\n",
       "      <th>0</th>\n",
       "      <td>1</td>\n",
       "      <td>a</td>\n",
       "      <td>t</td>\n",
       "    </tr>\n",
       "    <tr>\n",
       "      <th>1</th>\n",
       "      <td>2</td>\n",
       "      <td>b</td>\n",
       "      <td>s</td>\n",
       "    </tr>\n",
       "    <tr>\n",
       "      <th>2</th>\n",
       "      <td>3</td>\n",
       "      <td>c</td>\n",
       "      <td>r</td>\n",
       "    </tr>\n",
       "    <tr>\n",
       "      <th>3</th>\n",
       "      <td>4</td>\n",
       "      <td>d</td>\n",
       "      <td>q</td>\n",
       "    </tr>\n",
       "    <tr>\n",
       "      <th>4</th>\n",
       "      <td>5</td>\n",
       "      <td>e</td>\n",
       "      <td>p</td>\n",
       "    </tr>\n",
       "  </tbody>\n",
       "</table>\n",
       "</div>"
      ],
      "text/plain": [
       "   id nombres apellidos\n",
       "0   1       a         t\n",
       "1   2       b         s\n",
       "2   3       c         r\n",
       "3   4       d         q\n",
       "4   5       e         p"
      ]
     },
     "execution_count": 103,
     "metadata": {},
     "output_type": "execute_result"
    }
   ],
   "source": [
    "df_clientes.head()"
   ]
  },
  {
   "cell_type": "code",
   "execution_count": 105,
   "id": "39d10441-9be1-4feb-b4ba-6e704d51aa19",
   "metadata": {
    "tags": []
   },
   "outputs": [
    {
     "data": {
      "text/html": [
       "<div>\n",
       "<style scoped>\n",
       "    .dataframe tbody tr th:only-of-type {\n",
       "        vertical-align: middle;\n",
       "    }\n",
       "\n",
       "    .dataframe tbody tr th {\n",
       "        vertical-align: top;\n",
       "    }\n",
       "\n",
       "    .dataframe thead th {\n",
       "        text-align: right;\n",
       "    }\n",
       "</style>\n",
       "<table border=\"1\" class=\"dataframe\">\n",
       "  <thead>\n",
       "    <tr style=\"text-align: right;\">\n",
       "      <th></th>\n",
       "      <th>id</th>\n",
       "      <th>edad</th>\n",
       "      <th>salario</th>\n",
       "    </tr>\n",
       "  </thead>\n",
       "  <tbody>\n",
       "    <tr>\n",
       "      <th>0</th>\n",
       "      <td>1</td>\n",
       "      <td>20</td>\n",
       "      <td>100</td>\n",
       "    </tr>\n",
       "    <tr>\n",
       "      <th>1</th>\n",
       "      <td>2</td>\n",
       "      <td>21</td>\n",
       "      <td>200</td>\n",
       "    </tr>\n",
       "    <tr>\n",
       "      <th>2</th>\n",
       "      <td>3</td>\n",
       "      <td>22</td>\n",
       "      <td>300</td>\n",
       "    </tr>\n",
       "    <tr>\n",
       "      <th>3</th>\n",
       "      <td>4</td>\n",
       "      <td>23</td>\n",
       "      <td>400</td>\n",
       "    </tr>\n",
       "    <tr>\n",
       "      <th>4</th>\n",
       "      <td>5</td>\n",
       "      <td>24</td>\n",
       "      <td>500</td>\n",
       "    </tr>\n",
       "  </tbody>\n",
       "</table>\n",
       "</div>"
      ],
      "text/plain": [
       "   id  edad  salario\n",
       "0   1    20      100\n",
       "1   2    21      200\n",
       "2   3    22      300\n",
       "3   4    23      400\n",
       "4   5    24      500"
      ]
     },
     "execution_count": 105,
     "metadata": {},
     "output_type": "execute_result"
    }
   ],
   "source": [
    "df_salarios.head()"
   ]
  },
  {
   "cell_type": "markdown",
   "id": "92f616df-c404-4710-a8af-719388843a9a",
   "metadata": {
    "tags": []
   },
   "source": [
    "## INNER JOIN"
   ]
  },
  {
   "cell_type": "markdown",
   "id": "5bdd5663-7bac-4b34-b1c2-227ff9bd16df",
   "metadata": {
    "tags": []
   },
   "source": [
    "Nos devuelve la unión de las tablas por la columna indicada, mostrando solo los valores coincidentes"
   ]
  },
  {
   "cell_type": "code",
   "execution_count": 107,
   "id": "fbe59e16-0fb6-41db-b66f-613ff1a8254c",
   "metadata": {
    "tags": []
   },
   "outputs": [],
   "source": [
    "### Inner Join\n",
    "inner_join = df_clientes.merge(df_salarios, how=\"inner\", on='id')"
   ]
  },
  {
   "cell_type": "code",
   "execution_count": 109,
   "id": "0b2fd4af-3bc6-4360-a7dc-1551a8ee3cb5",
   "metadata": {
    "tags": []
   },
   "outputs": [
    {
     "data": {
      "text/html": [
       "<div>\n",
       "<style scoped>\n",
       "    .dataframe tbody tr th:only-of-type {\n",
       "        vertical-align: middle;\n",
       "    }\n",
       "\n",
       "    .dataframe tbody tr th {\n",
       "        vertical-align: top;\n",
       "    }\n",
       "\n",
       "    .dataframe thead th {\n",
       "        text-align: right;\n",
       "    }\n",
       "</style>\n",
       "<table border=\"1\" class=\"dataframe\">\n",
       "  <thead>\n",
       "    <tr style=\"text-align: right;\">\n",
       "      <th></th>\n",
       "      <th>id</th>\n",
       "      <th>nombres</th>\n",
       "      <th>apellidos</th>\n",
       "      <th>edad</th>\n",
       "      <th>salario</th>\n",
       "    </tr>\n",
       "  </thead>\n",
       "  <tbody>\n",
       "    <tr>\n",
       "      <th>0</th>\n",
       "      <td>1</td>\n",
       "      <td>a</td>\n",
       "      <td>t</td>\n",
       "      <td>20</td>\n",
       "      <td>100</td>\n",
       "    </tr>\n",
       "    <tr>\n",
       "      <th>1</th>\n",
       "      <td>2</td>\n",
       "      <td>b</td>\n",
       "      <td>s</td>\n",
       "      <td>21</td>\n",
       "      <td>200</td>\n",
       "    </tr>\n",
       "    <tr>\n",
       "      <th>2</th>\n",
       "      <td>3</td>\n",
       "      <td>c</td>\n",
       "      <td>r</td>\n",
       "      <td>22</td>\n",
       "      <td>300</td>\n",
       "    </tr>\n",
       "    <tr>\n",
       "      <th>3</th>\n",
       "      <td>4</td>\n",
       "      <td>d</td>\n",
       "      <td>q</td>\n",
       "      <td>23</td>\n",
       "      <td>400</td>\n",
       "    </tr>\n",
       "    <tr>\n",
       "      <th>4</th>\n",
       "      <td>5</td>\n",
       "      <td>e</td>\n",
       "      <td>p</td>\n",
       "      <td>24</td>\n",
       "      <td>500</td>\n",
       "    </tr>\n",
       "  </tbody>\n",
       "</table>\n",
       "</div>"
      ],
      "text/plain": [
       "   id nombres apellidos  edad  salario\n",
       "0   1       a         t    20      100\n",
       "1   2       b         s    21      200\n",
       "2   3       c         r    22      300\n",
       "3   4       d         q    23      400\n",
       "4   5       e         p    24      500"
      ]
     },
     "execution_count": 109,
     "metadata": {},
     "output_type": "execute_result"
    }
   ],
   "source": [
    "inner_join.head()"
   ]
  },
  {
   "cell_type": "markdown",
   "id": "c503c25c-cd21-4ddc-8beb-f832dc3d6a34",
   "metadata": {},
   "source": [
    "## OUTER JOIN"
   ]
  },
  {
   "cell_type": "markdown",
   "id": "80e39f3a-5e6f-4391-8821-cd1107ab1e3e",
   "metadata": {},
   "source": [
    "Nos devuelve las uniones de ñas tabñas por la colua común indicada, independiente de que los valores coincidan o no"
   ]
  },
  {
   "cell_type": "code",
   "execution_count": 111,
   "id": "f895f05d-cfd0-4d83-ac0f-68a775130f9d",
   "metadata": {
    "tags": []
   },
   "outputs": [],
   "source": [
    "### Outer Join\n",
    "outer_join = df_clientes.merge(df_salarios, how=\"outer\", on='id')"
   ]
  },
  {
   "cell_type": "code",
   "execution_count": 113,
   "id": "99dd57d9-2705-4ce0-94b0-1ec057e741b2",
   "metadata": {
    "tags": []
   },
   "outputs": [
    {
     "data": {
      "text/html": [
       "<div>\n",
       "<style scoped>\n",
       "    .dataframe tbody tr th:only-of-type {\n",
       "        vertical-align: middle;\n",
       "    }\n",
       "\n",
       "    .dataframe tbody tr th {\n",
       "        vertical-align: top;\n",
       "    }\n",
       "\n",
       "    .dataframe thead th {\n",
       "        text-align: right;\n",
       "    }\n",
       "</style>\n",
       "<table border=\"1\" class=\"dataframe\">\n",
       "  <thead>\n",
       "    <tr style=\"text-align: right;\">\n",
       "      <th></th>\n",
       "      <th>id</th>\n",
       "      <th>nombres</th>\n",
       "      <th>apellidos</th>\n",
       "      <th>edad</th>\n",
       "      <th>salario</th>\n",
       "    </tr>\n",
       "  </thead>\n",
       "  <tbody>\n",
       "    <tr>\n",
       "      <th>0</th>\n",
       "      <td>1</td>\n",
       "      <td>a</td>\n",
       "      <td>t</td>\n",
       "      <td>20</td>\n",
       "      <td>100</td>\n",
       "    </tr>\n",
       "    <tr>\n",
       "      <th>1</th>\n",
       "      <td>2</td>\n",
       "      <td>b</td>\n",
       "      <td>s</td>\n",
       "      <td>21</td>\n",
       "      <td>200</td>\n",
       "    </tr>\n",
       "    <tr>\n",
       "      <th>2</th>\n",
       "      <td>3</td>\n",
       "      <td>c</td>\n",
       "      <td>r</td>\n",
       "      <td>22</td>\n",
       "      <td>300</td>\n",
       "    </tr>\n",
       "    <tr>\n",
       "      <th>3</th>\n",
       "      <td>4</td>\n",
       "      <td>d</td>\n",
       "      <td>q</td>\n",
       "      <td>23</td>\n",
       "      <td>400</td>\n",
       "    </tr>\n",
       "    <tr>\n",
       "      <th>4</th>\n",
       "      <td>5</td>\n",
       "      <td>e</td>\n",
       "      <td>p</td>\n",
       "      <td>24</td>\n",
       "      <td>500</td>\n",
       "    </tr>\n",
       "  </tbody>\n",
       "</table>\n",
       "</div>"
      ],
      "text/plain": [
       "   id nombres apellidos  edad  salario\n",
       "0   1       a         t    20      100\n",
       "1   2       b         s    21      200\n",
       "2   3       c         r    22      300\n",
       "3   4       d         q    23      400\n",
       "4   5       e         p    24      500"
      ]
     },
     "execution_count": 113,
     "metadata": {},
     "output_type": "execute_result"
    }
   ],
   "source": [
    "outer_join.head()"
   ]
  },
  {
   "cell_type": "markdown",
   "id": "5111def3-9116-473c-8dfb-1b7ffc0ebbe8",
   "metadata": {},
   "source": [
    "## LEFT JOIN"
   ]
  },
  {
   "cell_type": "markdown",
   "id": "28d059d2-5d06-44c0-bb9c-db4876540391",
   "metadata": {},
   "source": [
    "Nos devuelve la unión de las tablas manteniendo exclusivamente los valores de la tabla que pasamos a la izquierda"
   ]
  },
  {
   "cell_type": "code",
   "execution_count": 115,
   "id": "f18ea4f5-3154-4949-9b77-311db086573e",
   "metadata": {
    "tags": []
   },
   "outputs": [],
   "source": [
    "## Left join\n",
    "left_join = df_clientes.merge(df_salarios, how=\"left\", on='id')"
   ]
  },
  {
   "cell_type": "code",
   "execution_count": 117,
   "id": "c7ddf695-2168-418b-bfa8-b0a245b69bca",
   "metadata": {
    "tags": []
   },
   "outputs": [
    {
     "data": {
      "text/html": [
       "<div>\n",
       "<style scoped>\n",
       "    .dataframe tbody tr th:only-of-type {\n",
       "        vertical-align: middle;\n",
       "    }\n",
       "\n",
       "    .dataframe tbody tr th {\n",
       "        vertical-align: top;\n",
       "    }\n",
       "\n",
       "    .dataframe thead th {\n",
       "        text-align: right;\n",
       "    }\n",
       "</style>\n",
       "<table border=\"1\" class=\"dataframe\">\n",
       "  <thead>\n",
       "    <tr style=\"text-align: right;\">\n",
       "      <th></th>\n",
       "      <th>id</th>\n",
       "      <th>nombres</th>\n",
       "      <th>apellidos</th>\n",
       "      <th>edad</th>\n",
       "      <th>salario</th>\n",
       "    </tr>\n",
       "  </thead>\n",
       "  <tbody>\n",
       "    <tr>\n",
       "      <th>0</th>\n",
       "      <td>1</td>\n",
       "      <td>a</td>\n",
       "      <td>t</td>\n",
       "      <td>20</td>\n",
       "      <td>100</td>\n",
       "    </tr>\n",
       "    <tr>\n",
       "      <th>1</th>\n",
       "      <td>2</td>\n",
       "      <td>b</td>\n",
       "      <td>s</td>\n",
       "      <td>21</td>\n",
       "      <td>200</td>\n",
       "    </tr>\n",
       "    <tr>\n",
       "      <th>2</th>\n",
       "      <td>3</td>\n",
       "      <td>c</td>\n",
       "      <td>r</td>\n",
       "      <td>22</td>\n",
       "      <td>300</td>\n",
       "    </tr>\n",
       "    <tr>\n",
       "      <th>3</th>\n",
       "      <td>4</td>\n",
       "      <td>d</td>\n",
       "      <td>q</td>\n",
       "      <td>23</td>\n",
       "      <td>400</td>\n",
       "    </tr>\n",
       "    <tr>\n",
       "      <th>4</th>\n",
       "      <td>5</td>\n",
       "      <td>e</td>\n",
       "      <td>p</td>\n",
       "      <td>24</td>\n",
       "      <td>500</td>\n",
       "    </tr>\n",
       "  </tbody>\n",
       "</table>\n",
       "</div>"
      ],
      "text/plain": [
       "   id nombres apellidos  edad  salario\n",
       "0   1       a         t    20      100\n",
       "1   2       b         s    21      200\n",
       "2   3       c         r    22      300\n",
       "3   4       d         q    23      400\n",
       "4   5       e         p    24      500"
      ]
     },
     "execution_count": 117,
     "metadata": {},
     "output_type": "execute_result"
    }
   ],
   "source": [
    "left_join.head()"
   ]
  },
  {
   "cell_type": "markdown",
   "id": "9983f6a6-26d2-42f7-a029-32c1d4e3c553",
   "metadata": {},
   "source": [
    "## RIGHT JOIN"
   ]
  },
  {
   "cell_type": "markdown",
   "id": "0346c1e8-317a-4488-9d88-a7623fc1473c",
   "metadata": {
    "tags": []
   },
   "source": [
    "Nos devuelve la unión de las tablas manteniendo exclusivamente los valores de la tabla que pasamos a la derecha"
   ]
  },
  {
   "cell_type": "code",
   "execution_count": 119,
   "id": "142f62a6-05c8-4073-8108-9496eeaa6822",
   "metadata": {
    "tags": []
   },
   "outputs": [],
   "source": [
    "## Right join\n",
    "right_join = df_clientes.merge(df_salarios, how=\"right\", on='id')"
   ]
  },
  {
   "cell_type": "code",
   "execution_count": 121,
   "id": "ea15c20a-7846-46b5-945e-1e76c783765c",
   "metadata": {
    "tags": []
   },
   "outputs": [
    {
     "data": {
      "text/html": [
       "<div>\n",
       "<style scoped>\n",
       "    .dataframe tbody tr th:only-of-type {\n",
       "        vertical-align: middle;\n",
       "    }\n",
       "\n",
       "    .dataframe tbody tr th {\n",
       "        vertical-align: top;\n",
       "    }\n",
       "\n",
       "    .dataframe thead th {\n",
       "        text-align: right;\n",
       "    }\n",
       "</style>\n",
       "<table border=\"1\" class=\"dataframe\">\n",
       "  <thead>\n",
       "    <tr style=\"text-align: right;\">\n",
       "      <th></th>\n",
       "      <th>id</th>\n",
       "      <th>nombres</th>\n",
       "      <th>apellidos</th>\n",
       "      <th>edad</th>\n",
       "      <th>salario</th>\n",
       "    </tr>\n",
       "  </thead>\n",
       "  <tbody>\n",
       "    <tr>\n",
       "      <th>0</th>\n",
       "      <td>1</td>\n",
       "      <td>a</td>\n",
       "      <td>t</td>\n",
       "      <td>20</td>\n",
       "      <td>100</td>\n",
       "    </tr>\n",
       "    <tr>\n",
       "      <th>1</th>\n",
       "      <td>2</td>\n",
       "      <td>b</td>\n",
       "      <td>s</td>\n",
       "      <td>21</td>\n",
       "      <td>200</td>\n",
       "    </tr>\n",
       "    <tr>\n",
       "      <th>2</th>\n",
       "      <td>3</td>\n",
       "      <td>c</td>\n",
       "      <td>r</td>\n",
       "      <td>22</td>\n",
       "      <td>300</td>\n",
       "    </tr>\n",
       "    <tr>\n",
       "      <th>3</th>\n",
       "      <td>4</td>\n",
       "      <td>d</td>\n",
       "      <td>q</td>\n",
       "      <td>23</td>\n",
       "      <td>400</td>\n",
       "    </tr>\n",
       "    <tr>\n",
       "      <th>4</th>\n",
       "      <td>5</td>\n",
       "      <td>e</td>\n",
       "      <td>p</td>\n",
       "      <td>24</td>\n",
       "      <td>500</td>\n",
       "    </tr>\n",
       "  </tbody>\n",
       "</table>\n",
       "</div>"
      ],
      "text/plain": [
       "   id nombres apellidos  edad  salario\n",
       "0   1       a         t    20      100\n",
       "1   2       b         s    21      200\n",
       "2   3       c         r    22      300\n",
       "3   4       d         q    23      400\n",
       "4   5       e         p    24      500"
      ]
     },
     "execution_count": 121,
     "metadata": {},
     "output_type": "execute_result"
    }
   ],
   "source": [
    "right_join.head()"
   ]
  },
  {
   "cell_type": "code",
   "execution_count": null,
   "id": "56583a49-6bda-4a76-9e81-8f9a70e48823",
   "metadata": {},
   "outputs": [],
   "source": []
  }
 ],
 "metadata": {
  "kernelspec": {
   "display_name": "Python 3 (ipykernel)",
   "language": "python",
   "name": "python3"
  },
  "language_info": {
   "codemirror_mode": {
    "name": "ipython",
    "version": 3
   },
   "file_extension": ".py",
   "mimetype": "text/x-python",
   "name": "python",
   "nbconvert_exporter": "python",
   "pygments_lexer": "ipython3",
   "version": "3.11.7"
  }
 },
 "nbformat": 4,
 "nbformat_minor": 5
}
