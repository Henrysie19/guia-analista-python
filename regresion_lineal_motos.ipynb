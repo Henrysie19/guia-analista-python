{
 "cells": [
  {
   "cell_type": "markdown",
   "id": "3fb6a372-6abd-4e49-b4c5-6a268cdeafad",
   "metadata": {},
   "source": [
    "# REGRESION LINEAL DE MOTOS"
   ]
  },
  {
   "cell_type": "markdown",
   "id": "0ff6b447-a86e-4abf-9dd4-7c28ecee2dc8",
   "metadata": {},
   "source": [
    "## Librerías"
   ]
  },
  {
   "cell_type": "code",
   "execution_count": 92,
   "id": "b31f27e5-6610-42e6-80c8-6fdc83355b66",
   "metadata": {},
   "outputs": [],
   "source": [
    "import pandas as pd\n",
    "import numpy as np\n",
    "import matplotlib.pyplot as plt\n",
    "import seaborn as sns\n",
    "import warnings\n",
    "warnings.filterwarnings(\"ignore\")\n",
    "sns.set_theme(color_codes=True)\n",
    "pd.set_option('display.max_columns',None)"
   ]
  },
  {
   "cell_type": "code",
   "execution_count": 63,
   "id": "3e5351cd-5f96-41f2-bb73-d3e251d56673",
   "metadata": {},
   "outputs": [],
   "source": [
    "moto_data = 'byle_data.csv'"
   ]
  },
  {
   "cell_type": "code",
   "execution_count": 68,
   "id": "08cb100c-7483-409f-a20f-36c4e7904a60",
   "metadata": {},
   "outputs": [],
   "source": [
    "df = pd.read_csv(moto_data, sep=',')"
   ]
  },
  {
   "cell_type": "code",
   "execution_count": 69,
   "id": "0eadb413-a95a-4894-afc7-61a6c46450e1",
   "metadata": {},
   "outputs": [
    {
     "name": "stdout",
     "output_type": "stream",
     "text": [
      "<class 'pandas.core.frame.DataFrame'>\n",
      "RangeIndex: 32648 entries, 0 to 32647\n",
      "Data columns (total 8 columns):\n",
      " #   Column      Non-Null Count  Dtype  \n",
      "---  ------      --------------  -----  \n",
      " 0   bike_name   32648 non-null  object \n",
      " 1   price       32648 non-null  float64\n",
      " 2   city        32648 non-null  object \n",
      " 3   kms_driven  32648 non-null  float64\n",
      " 4   owner       32648 non-null  object \n",
      " 5   age         32648 non-null  float64\n",
      " 6   power       32648 non-null  float64\n",
      " 7   brand       32648 non-null  object \n",
      "dtypes: float64(4), object(4)\n",
      "memory usage: 2.0+ MB\n"
     ]
    }
   ],
   "source": [
    "df.info()"
   ]
  },
  {
   "cell_type": "markdown",
   "id": "d2337cf2-31fb-481b-9909-b74b0135eee0",
   "metadata": {},
   "source": [
    "## Verificación de los datos"
   ]
  },
  {
   "cell_type": "code",
   "execution_count": 70,
   "id": "7ebaebf6-cb75-4dc4-9485-a06bd2a8c105",
   "metadata": {},
   "outputs": [
    {
     "data": {
      "text/html": [
       "<div>\n",
       "<style scoped>\n",
       "    .dataframe tbody tr th:only-of-type {\n",
       "        vertical-align: middle;\n",
       "    }\n",
       "\n",
       "    .dataframe tbody tr th {\n",
       "        vertical-align: top;\n",
       "    }\n",
       "\n",
       "    .dataframe thead th {\n",
       "        text-align: right;\n",
       "    }\n",
       "</style>\n",
       "<table border=\"1\" class=\"dataframe\">\n",
       "  <thead>\n",
       "    <tr style=\"text-align: right;\">\n",
       "      <th></th>\n",
       "      <th>bike_name</th>\n",
       "      <th>price</th>\n",
       "      <th>city</th>\n",
       "      <th>kms_driven</th>\n",
       "      <th>owner</th>\n",
       "      <th>age</th>\n",
       "      <th>power</th>\n",
       "      <th>brand</th>\n",
       "    </tr>\n",
       "  </thead>\n",
       "  <tbody>\n",
       "    <tr>\n",
       "      <th>0</th>\n",
       "      <td>TVS Star City Plus Dual Tone 110cc</td>\n",
       "      <td>35000.0</td>\n",
       "      <td>Ahmedabad</td>\n",
       "      <td>17654.0</td>\n",
       "      <td>First Owner</td>\n",
       "      <td>3.0</td>\n",
       "      <td>110.0</td>\n",
       "      <td>TVS</td>\n",
       "    </tr>\n",
       "    <tr>\n",
       "      <th>1</th>\n",
       "      <td>Royal Enfield Classic 350cc</td>\n",
       "      <td>119900.0</td>\n",
       "      <td>Delhi</td>\n",
       "      <td>11000.0</td>\n",
       "      <td>First Owner</td>\n",
       "      <td>4.0</td>\n",
       "      <td>350.0</td>\n",
       "      <td>Royal Enfield</td>\n",
       "    </tr>\n",
       "    <tr>\n",
       "      <th>2</th>\n",
       "      <td>Triumph Daytona 675R</td>\n",
       "      <td>600000.0</td>\n",
       "      <td>Delhi</td>\n",
       "      <td>110.0</td>\n",
       "      <td>First Owner</td>\n",
       "      <td>8.0</td>\n",
       "      <td>675.0</td>\n",
       "      <td>Triumph</td>\n",
       "    </tr>\n",
       "    <tr>\n",
       "      <th>3</th>\n",
       "      <td>TVS Apache RTR 180cc</td>\n",
       "      <td>65000.0</td>\n",
       "      <td>Bangalore</td>\n",
       "      <td>16329.0</td>\n",
       "      <td>First Owner</td>\n",
       "      <td>4.0</td>\n",
       "      <td>180.0</td>\n",
       "      <td>TVS</td>\n",
       "    </tr>\n",
       "    <tr>\n",
       "      <th>4</th>\n",
       "      <td>Yamaha FZ S V 2.0 150cc-Ltd. Edition</td>\n",
       "      <td>80000.0</td>\n",
       "      <td>Bangalore</td>\n",
       "      <td>10000.0</td>\n",
       "      <td>First Owner</td>\n",
       "      <td>3.0</td>\n",
       "      <td>150.0</td>\n",
       "      <td>Yamaha</td>\n",
       "    </tr>\n",
       "  </tbody>\n",
       "</table>\n",
       "</div>"
      ],
      "text/plain": [
       "                              bike_name     price       city  kms_driven  \\\n",
       "0    TVS Star City Plus Dual Tone 110cc   35000.0  Ahmedabad     17654.0   \n",
       "1           Royal Enfield Classic 350cc  119900.0      Delhi     11000.0   \n",
       "2                  Triumph Daytona 675R  600000.0      Delhi       110.0   \n",
       "3                  TVS Apache RTR 180cc   65000.0  Bangalore     16329.0   \n",
       "4  Yamaha FZ S V 2.0 150cc-Ltd. Edition   80000.0  Bangalore     10000.0   \n",
       "\n",
       "         owner  age  power          brand  \n",
       "0  First Owner  3.0  110.0            TVS  \n",
       "1  First Owner  4.0  350.0  Royal Enfield  \n",
       "2  First Owner  8.0  675.0        Triumph  \n",
       "3  First Owner  4.0  180.0            TVS  \n",
       "4  First Owner  3.0  150.0         Yamaha  "
      ]
     },
     "execution_count": 70,
     "metadata": {},
     "output_type": "execute_result"
    }
   ],
   "source": [
    "df.head()"
   ]
  },
  {
   "cell_type": "code",
   "execution_count": 71,
   "id": "20604366-7daa-4855-9416-169e1ac946a1",
   "metadata": {},
   "outputs": [
    {
     "data": {
      "text/html": [
       "<div>\n",
       "<style scoped>\n",
       "    .dataframe tbody tr th:only-of-type {\n",
       "        vertical-align: middle;\n",
       "    }\n",
       "\n",
       "    .dataframe tbody tr th {\n",
       "        vertical-align: top;\n",
       "    }\n",
       "\n",
       "    .dataframe thead th {\n",
       "        text-align: right;\n",
       "    }\n",
       "</style>\n",
       "<table border=\"1\" class=\"dataframe\">\n",
       "  <thead>\n",
       "    <tr style=\"text-align: right;\">\n",
       "      <th></th>\n",
       "      <th>price</th>\n",
       "      <th>kms_driven</th>\n",
       "      <th>age</th>\n",
       "      <th>power</th>\n",
       "    </tr>\n",
       "  </thead>\n",
       "  <tbody>\n",
       "    <tr>\n",
       "      <th>count</th>\n",
       "      <td>3.264800e+04</td>\n",
       "      <td>32648.000000</td>\n",
       "      <td>32648.000000</td>\n",
       "      <td>32648.000000</td>\n",
       "    </tr>\n",
       "    <tr>\n",
       "      <th>mean</th>\n",
       "      <td>6.829542e+04</td>\n",
       "      <td>26344.625184</td>\n",
       "      <td>8.048211</td>\n",
       "      <td>213.511302</td>\n",
       "    </tr>\n",
       "    <tr>\n",
       "      <th>std</th>\n",
       "      <td>9.071860e+04</td>\n",
       "      <td>22208.527695</td>\n",
       "      <td>4.031700</td>\n",
       "      <td>134.428868</td>\n",
       "    </tr>\n",
       "    <tr>\n",
       "      <th>min</th>\n",
       "      <td>4.400000e+03</td>\n",
       "      <td>1.000000</td>\n",
       "      <td>1.000000</td>\n",
       "      <td>100.000000</td>\n",
       "    </tr>\n",
       "    <tr>\n",
       "      <th>25%</th>\n",
       "      <td>2.500000e+04</td>\n",
       "      <td>12000.000000</td>\n",
       "      <td>5.000000</td>\n",
       "      <td>150.000000</td>\n",
       "    </tr>\n",
       "    <tr>\n",
       "      <th>50%</th>\n",
       "      <td>4.300000e+04</td>\n",
       "      <td>20373.000000</td>\n",
       "      <td>7.000000</td>\n",
       "      <td>150.000000</td>\n",
       "    </tr>\n",
       "    <tr>\n",
       "      <th>75%</th>\n",
       "      <td>8.000000e+04</td>\n",
       "      <td>35000.000000</td>\n",
       "      <td>10.000000</td>\n",
       "      <td>220.000000</td>\n",
       "    </tr>\n",
       "    <tr>\n",
       "      <th>max</th>\n",
       "      <td>1.900000e+06</td>\n",
       "      <td>750000.000000</td>\n",
       "      <td>63.000000</td>\n",
       "      <td>1800.000000</td>\n",
       "    </tr>\n",
       "  </tbody>\n",
       "</table>\n",
       "</div>"
      ],
      "text/plain": [
       "              price     kms_driven           age         power\n",
       "count  3.264800e+04   32648.000000  32648.000000  32648.000000\n",
       "mean   6.829542e+04   26344.625184      8.048211    213.511302\n",
       "std    9.071860e+04   22208.527695      4.031700    134.428868\n",
       "min    4.400000e+03       1.000000      1.000000    100.000000\n",
       "25%    2.500000e+04   12000.000000      5.000000    150.000000\n",
       "50%    4.300000e+04   20373.000000      7.000000    150.000000\n",
       "75%    8.000000e+04   35000.000000     10.000000    220.000000\n",
       "max    1.900000e+06  750000.000000     63.000000   1800.000000"
      ]
     },
     "execution_count": 71,
     "metadata": {},
     "output_type": "execute_result"
    }
   ],
   "source": [
    "df.describe()"
   ]
  },
  {
   "cell_type": "code",
   "execution_count": 72,
   "id": "8fbc1a57-2f7f-4f52-8dc1-28a488718af5",
   "metadata": {},
   "outputs": [
    {
     "data": {
      "text/plain": [
       "array([[<Axes: title={'center': 'price'}>,\n",
       "        <Axes: title={'center': 'kms_driven'}>],\n",
       "       [<Axes: title={'center': 'age'}>,\n",
       "        <Axes: title={'center': 'power'}>]], dtype=object)"
      ]
     },
     "execution_count": 72,
     "metadata": {},
     "output_type": "execute_result"
    },
    {
     "data": {
      "image/png": "[encoded data removed]",
      "text/plain": [
       "<Figure size 640x480 with 4 Axes>"
      ]
     },
     "metadata": {},
     "output_type": "display_data"
    }
   ],
   "source": [
    "df.hist()"
   ]
  },
  {
   "cell_type": "code",
   "execution_count": 73,
   "id": "9a8e43dc-603e-4c21-90a0-9a16d1f57819",
   "metadata": {},
   "outputs": [
    {
     "data": {
      "text/plain": [
       "<seaborn.axisgrid.PairGrid at 0x2281b48e7d0>"
      ]
     },
     "execution_count": 73,
     "metadata": {},
     "output_type": "execute_result"
    },
    {
     "data": {
      "image/png": "[encoded data removed]",
      "text/plain": [
       "<Figure size 750x250 with 3 Axes>"
      ]
     },
     "metadata": {},
     "output_type": "display_data"
    }
   ],
   "source": [
    "sns.pairplot(df, x_vars=['kms_driven','age','power'], y_vars=['price'])"
   ]
  },
  {
   "cell_type": "markdown",
   "id": "126fef0a-3400-4d3b-a4aa-40fb60b04e28",
   "metadata": {},
   "source": [
    "## CODIFICACION DE ETIQUETAS TIPO OBJETO"
   ]
  },
  {
   "cell_type": "code",
   "execution_count": 78,
   "id": "49f10f72-7aa2-4d61-962c-fd944825820c",
   "metadata": {},
   "outputs": [
    {
     "name": "stdout",
     "output_type": "stream",
     "text": [
      "bike_name: [401 295 411 375 426 437 189 168 326 304 464 432  72  27  31  73  76 339\n",
      "  84 173 302 429 176 214  56 235   9 257 208 249 215 328 256 323 288  16\n",
      " 277 140 348 422 329 370 197  89 229 449 333  10 272  65 122 264  50 147\n",
      "  61 433  20 318 251 313  54  64 431 102 413  79 338 174 253 217  74  88\n",
      " 337 424 300 242 465 367  86 201 151 165 461  94 312 394 109 315  40  15\n",
      " 321 199 212 466  68  43 236 349  99 425 344 255  32 167 145 160  93 287\n",
      " 438 443 146 106 387 365  44 306 135 347 172  46 385 292 399  45 101 298\n",
      " 396  67 305 231 342 452 325 290  38 457 414 218 238 246  77  78 439 178\n",
      " 193 336 159 469 285 130 206  53 200 194 228   2  66 259  90 244 113 359\n",
      " 258 132  70 307 353 379  22 153 463 364 279 380 143  12 310 124 346 128\n",
      " 356 278 276 195 111 166  36  34 366 210 248  18 123  29  14 400 205 263\n",
      "  47  91 213  87 241 462 181  95 412 245  80 247 453 402 237 270 121 378\n",
      " 148 355 468 360 150 299 116 434 211 330 320 119 450 376 138 216 142  63\n",
      " 261 260  59 161 114 383 324 110  60 252  62 280 155 327 180  19 286 322\n",
      " 239 301 357 254 345 104 230 169 350 441 405 309 384 198 232  30 340 120\n",
      " 139  28 136  85 445 435 381 420 103 403  35 417 332 390 418 319 404 224\n",
      " 179 134 371 284 182 209 196 382 361 281 294  52 225 293 185  23   5  37\n",
      " 240 415  21 368 451 467 127 107 419 250 223 234  49 164 219 408 447  83\n",
      " 171 296 187 221  98  96 331  97 406 203 269 308 335 377 233 372 427   1\n",
      " 297 291 191 354  48 184  11 192 266 100 156 183 362 416 226   4 204 131\n",
      "  81 202  26 369 409  13 374 317 175 341 363 352 190 442  71 188  41  33\n",
      "  57 456 158 436 389 282  51 391  17  39 395 227 334 351 455 117 149 157\n",
      "   8 137  55  24   3 265 207 271 126 311 273 112 470 152 398  82   6 129\n",
      " 440 386 430 177 448 343 407 388 154 222 428 133 397   0 289 125 316  69\n",
      " 460  25 421 459 274 314 275 262  92 393 105 373 243 170 423 454 410 303\n",
      " 108 358 458   7  58 268 118 267 446 444  75  42 186 162 163 144 392 283\n",
      " 115 220 141]\n",
      "city: [  6 118  44 282 218 140 273 185 217 167 330 308 300 240  14 359 289 257\n",
      " 191 224 163 431 182  36  54   5 128 423 194 395 100 301 149 436 404 243\n",
      " 137  50 156  74  21  73 172 248  30 321 346 262 258 264 379  32 220  69\n",
      " 271 352   7 439  96 345 318 399 189 246 353 341 427   0  45 292  46 314\n",
      " 101 230 274 355 109 193 287   3  81 260 198 342 420 160 242 366 386 111\n",
      "  72 245 307 259 417 311 409 316 297 206 390 333 180 161 155 135 315  98\n",
      " 183 209 184 317  63 430  17 168 154 340 406  58  40 202  31  82 401 337\n",
      " 263  55  85  12  43 351 281  49 170 403 188  90  94 174  64 284 322 381\n",
      " 382  51 320 237 378 205 354 357 388 169  11 231 239 424 367 179 166 112\n",
      "  20 134 272 254 110 192 173 133 391 268 106  65 376 233 117  22 360  27\n",
      " 332 410  38 413 211 370 326 383 159   8 276 338 302 175 200 344  61 432\n",
      " 283  97 201 421 294 419  93 186 374  29  77 356 119 219 426 270 227 123\n",
      " 113 148 197  19 265 120 150 107 105 204 190 349 339 165  34   2  13  67\n",
      " 280 244 143 402 414 350 255 249 152 438 418 327 290 177 222 277  47 434\n",
      " 405 393 407  78 158 153 241  39  56  86 285   4  91 336 389 104 228  87\n",
      "  89  26 267  35 295 331  16 396 234 251 275 362 157 372  33  99 221 411\n",
      " 368 253 125  53 145 103 223 247 195 319  52 358 187 286 304 196  18 416\n",
      " 213 131 141 298 226 365 433 261 147 178 269 235 387 385  62  23 375 325\n",
      " 334 364 212 313 299 312 139 144 328 136 347  92 108  37 207 293 435 127\n",
      " 114 303 363 397 440 428  15 384  79 250  70  59 138  28 306 415 122 425\n",
      " 278 129 373 208  80 441  84 252 392 348 115 343  57 164  41 214 291  25\n",
      " 266 296 124 102 199 442   1  48 288 215 323 394 305 329 126 400 256 437\n",
      " 229 116 408 146 151  76 429 324 238 398 236 210 162  88 171 132 279 412\n",
      " 361 225  66 142 216 369  95 130 121   9  10  71 371 309 232 422 203 176\n",
      "  83  75 335  68  42  24  60 380 181 310 377]\n",
      "owner: [0 2 3 1]\n",
      "brand: [19 17 20 21  6  5  1 18  2 11 15 12  3  7  4 10  0  9 16 13 22 14  8]\n"
     ]
    }
   ],
   "source": [
    "from sklearn import preprocessing\n",
    "\n",
    "# ciclo opara cada columna de la tabla para los datos tipo objeto\n",
    "for col in df.select_dtypes(include=['object']).columns:\n",
    "    \n",
    "    # Iniciand codificación de las datos tipo objetos\n",
    "    label_encoder = preprocessing.LabelEncoder()\n",
    "    \n",
    "    # Ajustando codificación a valores unicos\n",
    "    label_encoder.fit(df[col].unique())\n",
    "    \n",
    "    # transformar la columna usando la codificación\n",
    "    df[col] = label_encoder.transform(df[col])\n",
    "    \n",
    "    # Imprimir las columnas con los valores unicos\n",
    "    print(f\"{col}: {df[col].unique()}\")"
   ]
  },
  {
   "cell_type": "markdown",
   "id": "8c717a5c-5b37-4850-98b3-0dde5a5c1034",
   "metadata": {},
   "source": [
    "## Train/Test"
   ]
  },
  {
   "cell_type": "code",
   "execution_count": 80,
   "id": "f475485b-9f49-478d-a83f-5bfb960304e1",
   "metadata": {},
   "outputs": [],
   "source": [
    "datos_entrenamiento = df.sample(frac=0.8,random_state=0)\n",
    "datos_prueba = df.drop(datos_entrenamiento.index)"
   ]
  },
  {
   "cell_type": "code",
   "execution_count": 83,
   "id": "dae96cfd-21f6-4431-a706-0bd7d7822cf5",
   "metadata": {},
   "outputs": [],
   "source": [
    "etiquetas_entrenamiento = datos_entrenamiento.pop('price')\n",
    "etiquetas_prueba = datos_prueba.pop('price')"
   ]
  },
  {
   "cell_type": "code",
   "execution_count": 84,
   "id": "ef76fef4-fc22-4a99-9036-f60986d29d5f",
   "metadata": {},
   "outputs": [
    {
     "data": {
      "text/plain": [
       "9763      87000.0\n",
       "28214     41000.0\n",
       "24114    450000.0\n",
       "16697     70000.0\n",
       "12930    105000.0\n",
       "           ...   \n",
       "17549     48000.0\n",
       "1192      67000.0\n",
       "14613     35000.0\n",
       "3690      91100.0\n",
       "12877     25000.0\n",
       "Name: price, Length: 26118, dtype: float64"
      ]
     },
     "execution_count": 84,
     "metadata": {},
     "output_type": "execute_result"
    }
   ],
   "source": [
    "etiquetas_entrenamiento"
   ]
  },
  {
   "cell_type": "code",
   "execution_count": 86,
   "id": "5c4cc84a-81e2-4145-a133-391f36013900",
   "metadata": {},
   "outputs": [
    {
     "data": {
      "text/html": [
       "<div>\n",
       "<style scoped>\n",
       "    .dataframe tbody tr th:only-of-type {\n",
       "        vertical-align: middle;\n",
       "    }\n",
       "\n",
       "    .dataframe tbody tr th {\n",
       "        vertical-align: top;\n",
       "    }\n",
       "\n",
       "    .dataframe thead th {\n",
       "        text-align: right;\n",
       "    }\n",
       "</style>\n",
       "<table border=\"1\" class=\"dataframe\">\n",
       "  <thead>\n",
       "    <tr style=\"text-align: right;\">\n",
       "      <th></th>\n",
       "      <th>bike_name</th>\n",
       "      <th>city</th>\n",
       "      <th>kms_driven</th>\n",
       "      <th>owner</th>\n",
       "      <th>age</th>\n",
       "      <th>power</th>\n",
       "      <th>brand</th>\n",
       "    </tr>\n",
       "  </thead>\n",
       "  <tbody>\n",
       "    <tr>\n",
       "      <th>9763</th>\n",
       "      <td>194</td>\n",
       "      <td>330</td>\n",
       "      <td>140.0</td>\n",
       "      <td>0</td>\n",
       "      <td>3.0</td>\n",
       "      <td>160.0</td>\n",
       "      <td>6</td>\n",
       "    </tr>\n",
       "    <tr>\n",
       "      <th>28214</th>\n",
       "      <td>9</td>\n",
       "      <td>118</td>\n",
       "      <td>20245.0</td>\n",
       "      <td>2</td>\n",
       "      <td>11.0</td>\n",
       "      <td>220.0</td>\n",
       "      <td>1</td>\n",
       "    </tr>\n",
       "    <tr>\n",
       "      <th>24114</th>\n",
       "      <td>110</td>\n",
       "      <td>211</td>\n",
       "      <td>3430.0</td>\n",
       "      <td>0</td>\n",
       "      <td>4.0</td>\n",
       "      <td>750.0</td>\n",
       "      <td>4</td>\n",
       "    </tr>\n",
       "    <tr>\n",
       "      <th>16697</th>\n",
       "      <td>15</td>\n",
       "      <td>282</td>\n",
       "      <td>8000.0</td>\n",
       "      <td>0</td>\n",
       "      <td>5.0</td>\n",
       "      <td>220.0</td>\n",
       "      <td>1</td>\n",
       "    </tr>\n",
       "    <tr>\n",
       "      <th>12930</th>\n",
       "      <td>288</td>\n",
       "      <td>118</td>\n",
       "      <td>20000.0</td>\n",
       "      <td>0</td>\n",
       "      <td>4.0</td>\n",
       "      <td>350.0</td>\n",
       "      <td>17</td>\n",
       "    </tr>\n",
       "    <tr>\n",
       "      <th>...</th>\n",
       "      <td>...</td>\n",
       "      <td>...</td>\n",
       "      <td>...</td>\n",
       "      <td>...</td>\n",
       "      <td>...</td>\n",
       "      <td>...</td>\n",
       "      <td>...</td>\n",
       "    </tr>\n",
       "    <tr>\n",
       "      <th>17549</th>\n",
       "      <td>72</td>\n",
       "      <td>14</td>\n",
       "      <td>41939.0</td>\n",
       "      <td>0</td>\n",
       "      <td>8.0</td>\n",
       "      <td>200.0</td>\n",
       "      <td>1</td>\n",
       "    </tr>\n",
       "    <tr>\n",
       "      <th>1192</th>\n",
       "      <td>385</td>\n",
       "      <td>140</td>\n",
       "      <td>21483.0</td>\n",
       "      <td>0</td>\n",
       "      <td>3.0</td>\n",
       "      <td>200.0</td>\n",
       "      <td>19</td>\n",
       "    </tr>\n",
       "    <tr>\n",
       "      <th>14613</th>\n",
       "      <td>9</td>\n",
       "      <td>44</td>\n",
       "      <td>60000.0</td>\n",
       "      <td>0</td>\n",
       "      <td>9.0</td>\n",
       "      <td>220.0</td>\n",
       "      <td>1</td>\n",
       "    </tr>\n",
       "    <tr>\n",
       "      <th>3690</th>\n",
       "      <td>76</td>\n",
       "      <td>167</td>\n",
       "      <td>18470.0</td>\n",
       "      <td>0</td>\n",
       "      <td>6.0</td>\n",
       "      <td>200.0</td>\n",
       "      <td>1</td>\n",
       "    </tr>\n",
       "    <tr>\n",
       "      <th>12877</th>\n",
       "      <td>56</td>\n",
       "      <td>118</td>\n",
       "      <td>32588.0</td>\n",
       "      <td>0</td>\n",
       "      <td>9.0</td>\n",
       "      <td>150.0</td>\n",
       "      <td>1</td>\n",
       "    </tr>\n",
       "  </tbody>\n",
       "</table>\n",
       "<p>26118 rows × 7 columns</p>\n",
       "</div>"
      ],
      "text/plain": [
       "       bike_name  city  kms_driven  owner   age  power  brand\n",
       "9763         194   330       140.0      0   3.0  160.0      6\n",
       "28214          9   118     20245.0      2  11.0  220.0      1\n",
       "24114        110   211      3430.0      0   4.0  750.0      4\n",
       "16697         15   282      8000.0      0   5.0  220.0      1\n",
       "12930        288   118     20000.0      0   4.0  350.0     17\n",
       "...          ...   ...         ...    ...   ...    ...    ...\n",
       "17549         72    14     41939.0      0   8.0  200.0      1\n",
       "1192         385   140     21483.0      0   3.0  200.0     19\n",
       "14613          9    44     60000.0      0   9.0  220.0      1\n",
       "3690          76   167     18470.0      0   6.0  200.0      1\n",
       "12877         56   118     32588.0      0   9.0  150.0      1\n",
       "\n",
       "[26118 rows x 7 columns]"
      ]
     },
     "execution_count": 86,
     "metadata": {},
     "output_type": "execute_result"
    }
   ],
   "source": [
    "datos_entrenamiento"
   ]
  },
  {
   "cell_type": "markdown",
   "id": "09f864b8-1f52-433e-9730-797fbfc8cd90",
   "metadata": {},
   "source": [
    "## Regresion Lineal"
   ]
  },
  {
   "cell_type": "code",
   "execution_count": 88,
   "id": "5e94a37e-aac3-4841-b1d4-890f177c5c66",
   "metadata": {},
   "outputs": [
    {
     "data": {
      "text/html": [
       "<style>#sk-container-id-1 {color: black;background-color: white;}#sk-container-id-1 pre{padding: 0;}#sk-container-id-1 div.sk-toggleable {background-color: white;}#sk-container-id-1 label.sk-toggleable__label {cursor: pointer;display: block;width: 100%;margin-bottom: 0;padding: 0.3em;box-sizing: border-box;text-align: center;}#sk-container-id-1 label.sk-toggleable__label-arrow:before {content: \"▸\";float: left;margin-right: 0.25em;color: #696969;}#sk-container-id-1 label.sk-toggleable__label-arrow:hover:before {color: black;}#sk-container-id-1 div.sk-estimator:hover label.sk-toggleable__label-arrow:before {color: black;}#sk-container-id-1 div.sk-toggleable__content {max-height: 0;max-width: 0;overflow: hidden;text-align: left;background-color: #f0f8ff;}#sk-container-id-1 div.sk-toggleable__content pre {margin: 0.2em;color: black;border-radius: 0.25em;background-color: #f0f8ff;}#sk-container-id-1 input.sk-toggleable__control:checked~div.sk-toggleable__content {max-height: 200px;max-width: 100%;overflow: auto;}#sk-container-id-1 input.sk-toggleable__control:checked~label.sk-toggleable__label-arrow:before {content: \"▾\";}#sk-container-id-1 div.sk-estimator input.sk-toggleable__control:checked~label.sk-toggleable__label {background-color: #d4ebff;}#sk-container-id-1 div.sk-label input.sk-toggleable__control:checked~label.sk-toggleable__label {background-color: #d4ebff;}#sk-container-id-1 input.sk-hidden--visually {border: 0;clip: rect(1px 1px 1px 1px);clip: rect(1px, 1px, 1px, 1px);height: 1px;margin: -1px;overflow: hidden;padding: 0;position: absolute;width: 1px;}#sk-container-id-1 div.sk-estimator {font-family: monospace;background-color: #f0f8ff;border: 1px dotted black;border-radius: 0.25em;box-sizing: border-box;margin-bottom: 0.5em;}#sk-container-id-1 div.sk-estimator:hover {background-color: #d4ebff;}#sk-container-id-1 div.sk-parallel-item::after {content: \"\";width: 100%;border-bottom: 1px solid gray;flex-grow: 1;}#sk-container-id-1 div.sk-label:hover label.sk-toggleable__label {background-color: #d4ebff;}#sk-container-id-1 div.sk-serial::before {content: \"\";position: absolute;border-left: 1px solid gray;box-sizing: border-box;top: 0;bottom: 0;left: 50%;z-index: 0;}#sk-container-id-1 div.sk-serial {display: flex;flex-direction: column;align-items: center;background-color: white;padding-right: 0.2em;padding-left: 0.2em;position: relative;}#sk-container-id-1 div.sk-item {position: relative;z-index: 1;}#sk-container-id-1 div.sk-parallel {display: flex;align-items: stretch;justify-content: center;background-color: white;position: relative;}#sk-container-id-1 div.sk-item::before, #sk-container-id-1 div.sk-parallel-item::before {content: \"\";position: absolute;border-left: 1px solid gray;box-sizing: border-box;top: 0;bottom: 0;left: 50%;z-index: -1;}#sk-container-id-1 div.sk-parallel-item {display: flex;flex-direction: column;z-index: 1;position: relative;background-color: white;}#sk-container-id-1 div.sk-parallel-item:first-child::after {align-self: flex-end;width: 50%;}#sk-container-id-1 div.sk-parallel-item:last-child::after {align-self: flex-start;width: 50%;}#sk-container-id-1 div.sk-parallel-item:only-child::after {width: 0;}#sk-container-id-1 div.sk-dashed-wrapped {border: 1px dashed gray;margin: 0 0.4em 0.5em 0.4em;box-sizing: border-box;padding-bottom: 0.4em;background-color: white;}#sk-container-id-1 div.sk-label label {font-family: monospace;font-weight: bold;display: inline-block;line-height: 1.2em;}#sk-container-id-1 div.sk-label-container {text-align: center;}#sk-container-id-1 div.sk-container {/* jupyter's `normalize.less` sets `[hidden] { display: none; }` but bootstrap.min.css set `[hidden] { display: none !important; }` so we also need the `!important` here to be able to override the default hidden behavior on the sphinx rendered scikit-learn.org. See: https://github.com/scikit-learn/scikit-learn/issues/21755 */display: inline-block !important;position: relative;}#sk-container-id-1 div.sk-text-repr-fallback {display: none;}</style><div id=\"sk-container-id-1\" class=\"sk-top-container\"><div class=\"sk-text-repr-fallback\"><pre>LinearRegression()</pre><b>In a Jupyter environment, please rerun this cell to show the HTML representation or trust the notebook. <br />On GitHub, the HTML representation is unable to render, please try loading this page with nbviewer.org.</b></div><div class=\"sk-container\" hidden><div class=\"sk-item\"><div class=\"sk-estimator sk-toggleable\"><input class=\"sk-toggleable__control sk-hidden--visually\" id=\"sk-estimator-id-1\" type=\"checkbox\" checked><label for=\"sk-estimator-id-1\" class=\"sk-toggleable__label sk-toggleable__label-arrow\">LinearRegression</label><div class=\"sk-toggleable__content\"><pre>LinearRegression()</pre></div></div></div></div></div>"
      ],
      "text/plain": [
       "LinearRegression()"
      ]
     },
     "execution_count": 88,
     "metadata": {},
     "output_type": "execute_result"
    }
   ],
   "source": [
    "from sklearn.linear_model import LinearRegression\n",
    "modelo = LinearRegression()\n",
    "modelo.fit(datos_entrenamiento,etiquetas_entrenamiento)"
   ]
  },
  {
   "cell_type": "code",
   "execution_count": 91,
   "id": "560dac1f-cc09-43aa-965e-6b320c78b1b4",
   "metadata": {},
   "outputs": [
    {
     "data": {
      "text/plain": [
       "array([ 57425.19913001, -10885.55341776,   9100.52591078, ...,\n",
       "        34301.46638609, 109084.74159597, 112550.20836704])"
      ]
     },
     "execution_count": 91,
     "metadata": {},
     "output_type": "execute_result"
    }
   ],
   "source": [
    "predicciones = modelo.predict(datos_prueba)\n",
    "predicciones"
   ]
  },
  {
   "cell_type": "markdown",
   "id": "9c7e7276-3f92-4ef9-aa5a-06de608b6afc",
   "metadata": {},
   "source": [
    "## Error Porcentual"
   ]
  },
  {
   "cell_type": "code",
   "execution_count": 101,
   "id": "f32aea19-3bf5-4c19-89e3-e64d3629649a",
   "metadata": {},
   "outputs": [
    {
     "name": "stdout",
     "output_type": "stream",
     "text": [
      "Error porcentual : 3753224.613063\n"
     ]
    }
   ],
   "source": [
    "from sklearn.metrics import mean_squared_error\n",
    "error = np.sqrt(mean_squared_error(etiquetas_prueba, predicciones))\n",
    "print(\"Error porcentual : %f\" % (error*100))"
   ]
  },
  {
   "cell_type": "code",
   "execution_count": 103,
   "id": "bcce2253-45e6-4f9d-92b0-bc30ec09c6b5",
   "metadata": {},
   "outputs": [
    {
     "data": {
      "text/html": [
       "<div>\n",
       "<style scoped>\n",
       "    .dataframe tbody tr th:only-of-type {\n",
       "        vertical-align: middle;\n",
       "    }\n",
       "\n",
       "    .dataframe tbody tr th {\n",
       "        vertical-align: top;\n",
       "    }\n",
       "\n",
       "    .dataframe thead th {\n",
       "        text-align: right;\n",
       "    }\n",
       "</style>\n",
       "<table border=\"1\" class=\"dataframe\">\n",
       "  <thead>\n",
       "    <tr style=\"text-align: right;\">\n",
       "      <th></th>\n",
       "      <th>bike_name</th>\n",
       "      <th>city</th>\n",
       "      <th>kms_driven</th>\n",
       "      <th>owner</th>\n",
       "      <th>age</th>\n",
       "      <th>power</th>\n",
       "      <th>brand</th>\n",
       "    </tr>\n",
       "  </thead>\n",
       "  <tbody>\n",
       "    <tr>\n",
       "      <th>0</th>\n",
       "      <td>45</td>\n",
       "      <td>234</td>\n",
       "      <td>234</td>\n",
       "      <td>3</td>\n",
       "      <td>4</td>\n",
       "      <td>200</td>\n",
       "      <td>5</td>\n",
       "    </tr>\n",
       "  </tbody>\n",
       "</table>\n",
       "</div>"
      ],
      "text/plain": [
       "   bike_name  city  kms_driven  owner  age  power  brand\n",
       "0         45   234         234      3    4    200      5"
      ]
     },
     "execution_count": 103,
     "metadata": {},
     "output_type": "execute_result"
    }
   ],
   "source": [
    "motorranger = pd.DataFrame(np.array([[45,234,234,3,4,200,5]]),columns=('bike_name','city','kms_driven','owner','age','power','brand'))\n",
    "motorranger\n",
    "                           "
   ]
  },
  {
   "cell_type": "code",
   "execution_count": 105,
   "id": "e046476d-78f8-40a9-a206-f809fc4586bf",
   "metadata": {},
   "outputs": [
    {
     "data": {
      "text/plain": [
       "array([1999.12141661])"
      ]
     },
     "execution_count": 105,
     "metadata": {},
     "output_type": "execute_result"
    }
   ],
   "source": [
    "modelo.predict(motorranger)"
   ]
  },
  {
   "cell_type": "code",
   "execution_count": 107,
   "id": "64fa256b-3eb3-4a36-ba79-bae9346e93ce",
   "metadata": {},
   "outputs": [
    {
     "data": {
      "text/html": [
       "<div>\n",
       "<style scoped>\n",
       "    .dataframe tbody tr th:only-of-type {\n",
       "        vertical-align: middle;\n",
       "    }\n",
       "\n",
       "    .dataframe tbody tr th {\n",
       "        vertical-align: top;\n",
       "    }\n",
       "\n",
       "    .dataframe thead th {\n",
       "        text-align: right;\n",
       "    }\n",
       "</style>\n",
       "<table border=\"1\" class=\"dataframe\">\n",
       "  <thead>\n",
       "    <tr style=\"text-align: right;\">\n",
       "      <th></th>\n",
       "      <th>bike_name</th>\n",
       "      <th>price</th>\n",
       "      <th>city</th>\n",
       "      <th>kms_driven</th>\n",
       "      <th>owner</th>\n",
       "      <th>age</th>\n",
       "      <th>power</th>\n",
       "      <th>brand</th>\n",
       "    </tr>\n",
       "  </thead>\n",
       "  <tbody>\n",
       "    <tr>\n",
       "      <th>0</th>\n",
       "      <td>401</td>\n",
       "      <td>35000.0</td>\n",
       "      <td>6</td>\n",
       "      <td>17654.0</td>\n",
       "      <td>0</td>\n",
       "      <td>3.0</td>\n",
       "      <td>110.0</td>\n",
       "      <td>19</td>\n",
       "    </tr>\n",
       "    <tr>\n",
       "      <th>1</th>\n",
       "      <td>295</td>\n",
       "      <td>119900.0</td>\n",
       "      <td>118</td>\n",
       "      <td>11000.0</td>\n",
       "      <td>0</td>\n",
       "      <td>4.0</td>\n",
       "      <td>350.0</td>\n",
       "      <td>17</td>\n",
       "    </tr>\n",
       "    <tr>\n",
       "      <th>2</th>\n",
       "      <td>411</td>\n",
       "      <td>600000.0</td>\n",
       "      <td>118</td>\n",
       "      <td>110.0</td>\n",
       "      <td>0</td>\n",
       "      <td>8.0</td>\n",
       "      <td>675.0</td>\n",
       "      <td>20</td>\n",
       "    </tr>\n",
       "    <tr>\n",
       "      <th>3</th>\n",
       "      <td>375</td>\n",
       "      <td>65000.0</td>\n",
       "      <td>44</td>\n",
       "      <td>16329.0</td>\n",
       "      <td>0</td>\n",
       "      <td>4.0</td>\n",
       "      <td>180.0</td>\n",
       "      <td>19</td>\n",
       "    </tr>\n",
       "    <tr>\n",
       "      <th>4</th>\n",
       "      <td>426</td>\n",
       "      <td>80000.0</td>\n",
       "      <td>44</td>\n",
       "      <td>10000.0</td>\n",
       "      <td>0</td>\n",
       "      <td>3.0</td>\n",
       "      <td>150.0</td>\n",
       "      <td>21</td>\n",
       "    </tr>\n",
       "    <tr>\n",
       "      <th>...</th>\n",
       "      <td>...</td>\n",
       "      <td>...</td>\n",
       "      <td>...</td>\n",
       "      <td>...</td>\n",
       "      <td>...</td>\n",
       "      <td>...</td>\n",
       "      <td>...</td>\n",
       "      <td>...</td>\n",
       "    </tr>\n",
       "    <tr>\n",
       "      <th>32643</th>\n",
       "      <td>151</td>\n",
       "      <td>39000.0</td>\n",
       "      <td>118</td>\n",
       "      <td>22000.0</td>\n",
       "      <td>0</td>\n",
       "      <td>4.0</td>\n",
       "      <td>100.0</td>\n",
       "      <td>5</td>\n",
       "    </tr>\n",
       "    <tr>\n",
       "      <th>32644</th>\n",
       "      <td>375</td>\n",
       "      <td>30000.0</td>\n",
       "      <td>224</td>\n",
       "      <td>6639.0</td>\n",
       "      <td>0</td>\n",
       "      <td>9.0</td>\n",
       "      <td>180.0</td>\n",
       "      <td>19</td>\n",
       "    </tr>\n",
       "    <tr>\n",
       "      <th>32645</th>\n",
       "      <td>15</td>\n",
       "      <td>60000.0</td>\n",
       "      <td>118</td>\n",
       "      <td>20373.0</td>\n",
       "      <td>0</td>\n",
       "      <td>6.0</td>\n",
       "      <td>220.0</td>\n",
       "      <td>1</td>\n",
       "    </tr>\n",
       "    <tr>\n",
       "      <th>32646</th>\n",
       "      <td>176</td>\n",
       "      <td>15600.0</td>\n",
       "      <td>191</td>\n",
       "      <td>84186.0</td>\n",
       "      <td>0</td>\n",
       "      <td>16.0</td>\n",
       "      <td>125.0</td>\n",
       "      <td>5</td>\n",
       "    </tr>\n",
       "    <tr>\n",
       "      <th>32647</th>\n",
       "      <td>56</td>\n",
       "      <td>22000.0</td>\n",
       "      <td>330</td>\n",
       "      <td>60857.0</td>\n",
       "      <td>0</td>\n",
       "      <td>13.0</td>\n",
       "      <td>150.0</td>\n",
       "      <td>1</td>\n",
       "    </tr>\n",
       "  </tbody>\n",
       "</table>\n",
       "<p>32648 rows × 8 columns</p>\n",
       "</div>"
      ],
      "text/plain": [
       "       bike_name     price  city  kms_driven  owner   age  power  brand\n",
       "0            401   35000.0     6     17654.0      0   3.0  110.0     19\n",
       "1            295  119900.0   118     11000.0      0   4.0  350.0     17\n",
       "2            411  600000.0   118       110.0      0   8.0  675.0     20\n",
       "3            375   65000.0    44     16329.0      0   4.0  180.0     19\n",
       "4            426   80000.0    44     10000.0      0   3.0  150.0     21\n",
       "...          ...       ...   ...         ...    ...   ...    ...    ...\n",
       "32643        151   39000.0   118     22000.0      0   4.0  100.0      5\n",
       "32644        375   30000.0   224      6639.0      0   9.0  180.0     19\n",
       "32645         15   60000.0   118     20373.0      0   6.0  220.0      1\n",
       "32646        176   15600.0   191     84186.0      0  16.0  125.0      5\n",
       "32647         56   22000.0   330     60857.0      0  13.0  150.0      1\n",
       "\n",
       "[32648 rows x 8 columns]"
      ]
     },
     "execution_count": 107,
     "metadata": {},
     "output_type": "execute_result"
    }
   ],
   "source": [
    "df"
   ]
  },
  {
   "cell_type": "code",
   "execution_count": null,
   "id": "96756c3b-ec04-41d1-9739-dafbb831cbe6",
   "metadata": {},
   "outputs": [],
   "source": [
    "### Conclusion: No se debio hacer encoder en las variables categoricas porque no se necesitaba"
   ]
  }
 ],
 "metadata": {
  "kernelspec": {
   "display_name": "Python 3 (ipykernel)",
   "language": "python",
   "name": "python3"
  },
  "language_info": {
   "codemirror_mode": {
    "name": "ipython",
    "version": 3
   },
   "file_extension": ".py",
   "mimetype": "text/x-python",
   "name": "python",
   "nbconvert_exporter": "python",
   "pygments_lexer": "ipython3",
   "version": "3.10.9"
  }
 },
 "nbformat": 4,
 "nbformat_minor": 5
}
